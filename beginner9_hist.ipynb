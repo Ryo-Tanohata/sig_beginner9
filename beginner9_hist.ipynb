{
  "nbformat": 4,
  "nbformat_minor": 0,
  "metadata": {
    "colab": {
      "name": "beginner9_hist.ipynb",
      "provenance": [],
      "collapsed_sections": [],
      "machine_shape": "hm",
      "include_colab_link": true
    },
    "kernelspec": {
      "name": "python3",
      "display_name": "Python 3"
    }
  },
  "cells": [
    {
      "cell_type": "markdown",
      "metadata": {
        "id": "view-in-github",
        "colab_type": "text"
      },
      "source": [
        "<a href=\"https://colab.research.google.com/github/Ryo-Tanohata/sig_beginner9/blob/main/beginner9_hist.ipynb\" target=\"_parent\"><img src=\"https://colab.research.google.com/assets/colab-badge.svg\" alt=\"Open In Colab\"/></a>"
      ]
    },
    {
      "cell_type": "code",
      "metadata": {
        "colab": {
          "base_uri": "https://localhost:8080/"
        },
        "id": "VRZ3KEQJoXU4",
        "outputId": "981c5ace-3a09-49a1-87c8-d38657fd216b"
      },
      "source": [
        "from google.colab import drive\n",
        "drive.mount('/content/drive')"
      ],
      "execution_count": null,
      "outputs": [
        {
          "output_type": "stream",
          "text": [
            "Mounted at /content/drive\n"
          ],
          "name": "stdout"
        }
      ]
    },
    {
      "cell_type": "code",
      "metadata": {
        "id": "r4LEP-4MzddE",
        "colab": {
          "base_uri": "https://localhost:8080/"
        },
        "outputId": "bff0b502-e2cc-4d7a-c0a9-47874f0cdcfe"
      },
      "source": [
        "import warnings\n",
        "import gc\n",
        "import pandas as pd\n",
        "import pandas_profiling as pdp\n",
        "import numpy as np\n",
        "import matplotlib.pyplot as plt\n",
        "import seaborn as sns\n",
        "from sklearn.experimental import enable_hist_gradient_boosting\n",
        "from sklearn.ensemble import HistGradientBoostingClassifier\n",
        "from sklearn.model_selection import train_test_split, cross_val_score, StratifiedKFold\n",
        "from sklearn.metrics import accuracy_score, roc_auc_score, precision_recall_curve, roc_curve, average_precision_score\n",
        "warnings.simplefilter('ignore')\n",
        "\n",
        " # 読み込むデータが格納されたディレクトリのパス，必要に応じて変更の必要あり\n",
        "path = \"/content/drive/My Drive/beginner9/\"\n",
        "\n",
        "train_df = pd.read_csv(path + \"train.csv\")\n",
        "test_df = pd.read_csv(path + \"test.csv\")\n",
        "submit = pd.read_csv(path + \"sample_submission.csv\", header=None)\n",
        "\n",
        "# 訓練データ、テストデータがわかるようにダミーの目的変数を代入\n",
        "test_df['target']=-999\n",
        "\n",
        "# 訓練データ、テストデータを結合\n",
        "all_df = pd.concat([train_df,test_df])\n",
        "del train_df,test_df\n",
        "gc.collect()\n",
        "\n",
        "# def eGFR(x):\n",
        "#     if x['sex']==1:\n",
        "#       return 194*(x['serum_creatinine']**-1.094)*(x['age']**-0.287)\n",
        "#     else:\n",
        "#       return 194*(x['serum_creatinine']**-1.094)*(x['age']**-0.287)*0.739\n",
        "\n",
        "# all_df[\"eGFR\"] = all_df.apply(eGFR, axis=1)\n",
        "\n",
        "# 訓練データ、テストデータの分割\n",
        "train_df = all_df[all_df['target']!=-999]\n",
        "test_df = all_df[all_df['target']==-999]\n",
        "\n",
        "y=train_df['target']\n",
        "data=train_df.drop(['target','id'], axis=1)\n",
        "test=test_df.drop(['target','id'], axis=1)\n",
        "\n",
        "folds = 5\n",
        "kf = StratifiedKFold(n_splits=folds,shuffle=True,random_state=0)\n",
        "\n",
        "def lgbc2_action(data_, test_, y_, folds_):\n",
        "    oof_preds = np.zeros(data_.shape[0])\n",
        "    sub_preds = np.zeros(test_.shape[0])\n",
        "\n",
        "    feats = [f for f in data_.columns]\n",
        "\n",
        "    for i,(train_index,test_index) in enumerate(folds_.split(data_, y_)):\n",
        "        X_cv_train = data_.iloc[train_index]\n",
        "        X_cv_test = data_.iloc[test_index]\n",
        "        y_cv_train = y_.iloc[train_index]\n",
        "        y_cv_test = y_.iloc[test_index]\n",
        "\n",
        "        model = HistGradientBoostingClassifier(loss='binary_crossentropy',max_iter=10001,learning_rate=0.1,random_state=0)\n",
        "        model.fit(X_cv_train,y_cv_train)\n",
        "        oof_preds[test_index] = model.predict(X_cv_test)\n",
        "        sub_preds += model.predict_proba(test_)[:, 1] / folds_.n_splits\n",
        "        \n",
        "        print('Fold %2d ACC : %.6f' % (i + 1, accuracy_score(y_cv_test, oof_preds[test_index])))\n",
        "        del model, X_cv_train, X_cv_test, y_cv_train, y_cv_test\n",
        "        gc.collect()\n",
        "        \n",
        "    print('Full ACC score %.6f' % accuracy_score(y_, oof_preds)) \n",
        "\n",
        "    return oof_preds, sub_preds\n",
        "\n",
        "oof_preds, test_preds = lgbc2_action(data, test, y, kf)\n",
        "\n",
        "test_preds = pd.DataFrame(test_preds)\n",
        "test_preds = test_preds.idxmax(axis=1)\n",
        "\n",
        "submit[1] = test_preds\n",
        "submit.to_csv(path + \"submission.csv\", index=False, header=False)"
      ],
      "execution_count": null,
      "outputs": [
        {
          "output_type": "stream",
          "text": [
            "Fold  1 ACC : 0.870000\n",
            "Fold  2 ACC : 0.830000\n",
            "Fold  3 ACC : 0.870000\n",
            "Fold  4 ACC : 0.890000\n",
            "Fold  5 ACC : 0.855000\n",
            "Full ACC score 0.863000\n"
          ],
          "name": "stdout"
        }
      ]
    }
  ]
}