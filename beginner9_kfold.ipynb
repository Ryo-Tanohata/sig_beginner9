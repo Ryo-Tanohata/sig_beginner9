{
  "nbformat": 4,
  "nbformat_minor": 0,
  "metadata": {
    "colab": {
      "name": "beginner9_hist.ipynb",
      "provenance": [],
      "collapsed_sections": [],
      "toc_visible": true,
      "machine_shape": "hm",
      "include_colab_link": true
    },
    "kernelspec": {
      "display_name": "Python 3",
      "name": "python3"
    }
  },
  "cells": [
    {
      "cell_type": "markdown",
      "metadata": {
        "id": "view-in-github",
        "colab_type": "text"
      },
      "source": [
        "<a href=\"https://colab.research.google.com/github/Ryo-Tanohata/sig_beginner9/blob/main/beginner9_kfold.ipynb\" target=\"_parent\"><img src=\"https://colab.research.google.com/assets/colab-badge.svg\" alt=\"Open In Colab\"/></a>"
      ]
    },
    {
      "cell_type": "markdown",
      "metadata": {
        "id": "PYibNi66PGOc"
      },
      "source": [
        "https://signate.jp/competitions/434#abstract"
      ]
    },
    {
      "cell_type": "markdown",
      "metadata": {
        "id": "XuiLAJRXiYet"
      },
      "source": [
        "#1 データの取得\n",
        "自分の環境に合わせてデータを取得して読み込んで下さい。"
      ]
    },
    {
      "cell_type": "code",
      "metadata": {
        "colab": {
          "base_uri": "https://localhost:8080/"
        },
        "id": "mGSTgQA4Kz5c",
        "outputId": "e49d76e5-9ca6-42ec-d7f8-a9ceeb576da7"
      },
      "source": [
        "#signate_begginer9.zipをGoogle Drive からひっぱってくるやつ\n",
        "from googleapiclient.discovery import build\n",
        "import io, os\n",
        "from googleapiclient.http import MediaIoBaseDownload\n",
        "from google.colab import auth\n",
        " \n",
        "auth.authenticate_user()\n",
        " \n",
        "drive_service = build('drive', 'v3')\n",
        "results = drive_service.files().list(\n",
        "        q=\"name = 'signate_begginer9.zip'\", fields=\"files(id)\").execute()\n",
        "signate_api_key = results.get('files', [])\n",
        " \n",
        "filename = \"/content/input/signate_begginer9.zip\"\n",
        "os.makedirs(os.path.dirname(filename), exist_ok=True)\n",
        " \n",
        "request = drive_service.files().get_media(fileId=signate_api_key[0]['id'])\n",
        "fh = io.FileIO(filename, 'wb')\n",
        "downloader = MediaIoBaseDownload(fh, request)\n",
        "done = False\n",
        "while done is False:\n",
        "    status, done = downloader.next_chunk()\n",
        "    print(\"Download %d%%.\" % int(status.progress() * 100))\n",
        "os.chmod(filename, 600)"
      ],
      "execution_count": null,
      "outputs": [
        {
          "output_type": "stream",
          "text": [
            "Download 100%.\n"
          ],
          "name": "stdout"
        }
      ]
    },
    {
      "cell_type": "markdown",
      "metadata": {
        "id": "sJYG5Q6-mrV7"
      },
      "source": [
        "#2 ファイルの解凍"
      ]
    },
    {
      "cell_type": "code",
      "metadata": {
        "colab": {
          "base_uri": "https://localhost:8080/"
        },
        "id": "gNUx6qIXLBoA",
        "outputId": "07fd84a3-fb4f-4b71-999f-6bf6e1efe3ed"
      },
      "source": [
        "import os\n",
        "path=\"./input\"\n",
        "zip_files=os.listdir(path)\n",
        "zip_files"
      ],
      "execution_count": null,
      "outputs": [
        {
          "output_type": "execute_result",
          "data": {
            "text/plain": [
              "['signate_begginer9.zip']"
            ]
          },
          "metadata": {
            "tags": []
          },
          "execution_count": 2
        }
      ]
    },
    {
      "cell_type": "code",
      "metadata": {
        "colab": {
          "base_uri": "https://localhost:8080/"
        },
        "id": "VTiVnEaeOJxP",
        "outputId": "4e2affae-8415-43ea-ad0e-e9d22049b067"
      },
      "source": [
        "import zipfile\n",
        "for i in zip_files:\n",
        "    if \".zip\" in i:\n",
        "        with zipfile.ZipFile(\"input/\"+i) as existing_zip:\n",
        "            print(f'open {i}')\n",
        "            existing_zip.extractall('input')\n",
        "    else:\n",
        "        continue"
      ],
      "execution_count": null,
      "outputs": [
        {
          "output_type": "stream",
          "text": [
            "open signate_begginer9.zip\n"
          ],
          "name": "stdout"
        }
      ]
    },
    {
      "cell_type": "code",
      "metadata": {
        "id": "NrkMoPabAdh3"
      },
      "source": [
        "train2=pd.read_csv('input/train.csv')\n",
        "test2=pd.read_csv('input/test.csv')"
      ],
      "execution_count": null,
      "outputs": []
    },
    {
      "cell_type": "code",
      "metadata": {
        "colab": {
          "base_uri": "https://localhost:8080/",
          "height": 218
        },
        "id": "LLasgErNAtIH",
        "outputId": "faea7263-d8d9-45d1-e0a4-707d580f2af0"
      },
      "source": [
        "train2.head()"
      ],
      "execution_count": null,
      "outputs": [
        {
          "output_type": "execute_result",
          "data": {
            "text/html": [
              "<div>\n",
              "<style scoped>\n",
              "    .dataframe tbody tr th:only-of-type {\n",
              "        vertical-align: middle;\n",
              "    }\n",
              "\n",
              "    .dataframe tbody tr th {\n",
              "        vertical-align: top;\n",
              "    }\n",
              "\n",
              "    .dataframe thead th {\n",
              "        text-align: right;\n",
              "    }\n",
              "</style>\n",
              "<table border=\"1\" class=\"dataframe\">\n",
              "  <thead>\n",
              "    <tr style=\"text-align: right;\">\n",
              "      <th></th>\n",
              "      <th>id</th>\n",
              "      <th>age</th>\n",
              "      <th>anaemia</th>\n",
              "      <th>creatinine_phosphokinase</th>\n",
              "      <th>diabetes</th>\n",
              "      <th>ejection_fraction</th>\n",
              "      <th>high_blood_pressure</th>\n",
              "      <th>platelets</th>\n",
              "      <th>serum_creatinine</th>\n",
              "      <th>serum_sodium</th>\n",
              "      <th>sex</th>\n",
              "      <th>smoking</th>\n",
              "      <th>time</th>\n",
              "      <th>target</th>\n",
              "    </tr>\n",
              "  </thead>\n",
              "  <tbody>\n",
              "    <tr>\n",
              "      <th>0</th>\n",
              "      <td>0</td>\n",
              "      <td>56</td>\n",
              "      <td>1</td>\n",
              "      <td>5882</td>\n",
              "      <td>0</td>\n",
              "      <td>38</td>\n",
              "      <td>0</td>\n",
              "      <td>185315.0104</td>\n",
              "      <td>0.844417</td>\n",
              "      <td>134</td>\n",
              "      <td>1</td>\n",
              "      <td>0</td>\n",
              "      <td>10</td>\n",
              "      <td>1</td>\n",
              "    </tr>\n",
              "    <tr>\n",
              "      <th>1</th>\n",
              "      <td>3</td>\n",
              "      <td>50</td>\n",
              "      <td>0</td>\n",
              "      <td>1767</td>\n",
              "      <td>1</td>\n",
              "      <td>35</td>\n",
              "      <td>0</td>\n",
              "      <td>371620.3666</td>\n",
              "      <td>0.837448</td>\n",
              "      <td>136</td>\n",
              "      <td>0</td>\n",
              "      <td>0</td>\n",
              "      <td>187</td>\n",
              "      <td>1</td>\n",
              "    </tr>\n",
              "    <tr>\n",
              "      <th>2</th>\n",
              "      <td>7</td>\n",
              "      <td>41</td>\n",
              "      <td>0</td>\n",
              "      <td>250</td>\n",
              "      <td>1</td>\n",
              "      <td>30</td>\n",
              "      <td>0</td>\n",
              "      <td>372810.2084</td>\n",
              "      <td>0.819996</td>\n",
              "      <td>139</td>\n",
              "      <td>1</td>\n",
              "      <td>0</td>\n",
              "      <td>29</td>\n",
              "      <td>1</td>\n",
              "    </tr>\n",
              "    <tr>\n",
              "      <th>3</th>\n",
              "      <td>11</td>\n",
              "      <td>47</td>\n",
              "      <td>0</td>\n",
              "      <td>582</td>\n",
              "      <td>1</td>\n",
              "      <td>20</td>\n",
              "      <td>0</td>\n",
              "      <td>185780.6482</td>\n",
              "      <td>0.870314</td>\n",
              "      <td>137</td>\n",
              "      <td>0</td>\n",
              "      <td>0</td>\n",
              "      <td>43</td>\n",
              "      <td>0</td>\n",
              "    </tr>\n",
              "    <tr>\n",
              "      <th>4</th>\n",
              "      <td>12</td>\n",
              "      <td>60</td>\n",
              "      <td>0</td>\n",
              "      <td>80</td>\n",
              "      <td>0</td>\n",
              "      <td>25</td>\n",
              "      <td>0</td>\n",
              "      <td>265096.3999</td>\n",
              "      <td>0.828112</td>\n",
              "      <td>136</td>\n",
              "      <td>1</td>\n",
              "      <td>0</td>\n",
              "      <td>213</td>\n",
              "      <td>0</td>\n",
              "    </tr>\n",
              "  </tbody>\n",
              "</table>\n",
              "</div>"
            ],
            "text/plain": [
              "   id  age  anaemia  creatinine_phosphokinase  ...  sex  smoking  time  target\n",
              "0   0   56        1                      5882  ...    1        0    10       1\n",
              "1   3   50        0                      1767  ...    0        0   187       1\n",
              "2   7   41        0                       250  ...    1        0    29       1\n",
              "3  11   47        0                       582  ...    0        0    43       0\n",
              "4  12   60        0                        80  ...    1        0   213       0\n",
              "\n",
              "[5 rows x 14 columns]"
            ]
          },
          "metadata": {
            "tags": []
          },
          "execution_count": 11
        }
      ]
    },
    {
      "cell_type": "code",
      "metadata": {
        "colab": {
          "base_uri": "https://localhost:8080/",
          "height": 218
        },
        "id": "NgK3j-Y1AvuW",
        "outputId": "fd05e508-8b31-4597-e2d4-35b23492612f"
      },
      "source": [
        "test2.head()"
      ],
      "execution_count": null,
      "outputs": [
        {
          "output_type": "execute_result",
          "data": {
            "text/html": [
              "<div>\n",
              "<style scoped>\n",
              "    .dataframe tbody tr th:only-of-type {\n",
              "        vertical-align: middle;\n",
              "    }\n",
              "\n",
              "    .dataframe tbody tr th {\n",
              "        vertical-align: top;\n",
              "    }\n",
              "\n",
              "    .dataframe thead th {\n",
              "        text-align: right;\n",
              "    }\n",
              "</style>\n",
              "<table border=\"1\" class=\"dataframe\">\n",
              "  <thead>\n",
              "    <tr style=\"text-align: right;\">\n",
              "      <th></th>\n",
              "      <th>id</th>\n",
              "      <th>age</th>\n",
              "      <th>anaemia</th>\n",
              "      <th>creatinine_phosphokinase</th>\n",
              "      <th>diabetes</th>\n",
              "      <th>ejection_fraction</th>\n",
              "      <th>high_blood_pressure</th>\n",
              "      <th>platelets</th>\n",
              "      <th>serum_creatinine</th>\n",
              "      <th>serum_sodium</th>\n",
              "      <th>sex</th>\n",
              "      <th>smoking</th>\n",
              "      <th>time</th>\n",
              "    </tr>\n",
              "  </thead>\n",
              "  <tbody>\n",
              "    <tr>\n",
              "      <th>0</th>\n",
              "      <td>1</td>\n",
              "      <td>67</td>\n",
              "      <td>1</td>\n",
              "      <td>56</td>\n",
              "      <td>0</td>\n",
              "      <td>60</td>\n",
              "      <td>0</td>\n",
              "      <td>255844.0310</td>\n",
              "      <td>0.824480</td>\n",
              "      <td>140</td>\n",
              "      <td>0</td>\n",
              "      <td>0</td>\n",
              "      <td>147</td>\n",
              "    </tr>\n",
              "    <tr>\n",
              "      <th>1</th>\n",
              "      <td>2</td>\n",
              "      <td>58</td>\n",
              "      <td>0</td>\n",
              "      <td>320</td>\n",
              "      <td>0</td>\n",
              "      <td>38</td>\n",
              "      <td>0</td>\n",
              "      <td>163434.8513</td>\n",
              "      <td>5.281481</td>\n",
              "      <td>134</td>\n",
              "      <td>0</td>\n",
              "      <td>0</td>\n",
              "      <td>207</td>\n",
              "    </tr>\n",
              "    <tr>\n",
              "      <th>2</th>\n",
              "      <td>4</td>\n",
              "      <td>67</td>\n",
              "      <td>1</td>\n",
              "      <td>737</td>\n",
              "      <td>0</td>\n",
              "      <td>60</td>\n",
              "      <td>0</td>\n",
              "      <td>255278.8436</td>\n",
              "      <td>0.841388</td>\n",
              "      <td>140</td>\n",
              "      <td>0</td>\n",
              "      <td>0</td>\n",
              "      <td>113</td>\n",
              "    </tr>\n",
              "    <tr>\n",
              "      <th>3</th>\n",
              "      <td>5</td>\n",
              "      <td>48</td>\n",
              "      <td>0</td>\n",
              "      <td>231</td>\n",
              "      <td>1</td>\n",
              "      <td>60</td>\n",
              "      <td>0</td>\n",
              "      <td>500149.7955</td>\n",
              "      <td>0.742807</td>\n",
              "      <td>139</td>\n",
              "      <td>1</td>\n",
              "      <td>1</td>\n",
              "      <td>215</td>\n",
              "    </tr>\n",
              "    <tr>\n",
              "      <th>4</th>\n",
              "      <td>6</td>\n",
              "      <td>59</td>\n",
              "      <td>0</td>\n",
              "      <td>320</td>\n",
              "      <td>0</td>\n",
              "      <td>35</td>\n",
              "      <td>0</td>\n",
              "      <td>245489.2530</td>\n",
              "      <td>1.082861</td>\n",
              "      <td>132</td>\n",
              "      <td>1</td>\n",
              "      <td>0</td>\n",
              "      <td>215</td>\n",
              "    </tr>\n",
              "  </tbody>\n",
              "</table>\n",
              "</div>"
            ],
            "text/plain": [
              "   id  age  anaemia  creatinine_phosphokinase  ...  serum_sodium  sex  smoking  time\n",
              "0   1   67        1                        56  ...           140    0        0   147\n",
              "1   2   58        0                       320  ...           134    0        0   207\n",
              "2   4   67        1                       737  ...           140    0        0   113\n",
              "3   5   48        0                       231  ...           139    1        1   215\n",
              "4   6   59        0                       320  ...           132    1        0   215\n",
              "\n",
              "[5 rows x 13 columns]"
            ]
          },
          "metadata": {
            "tags": []
          },
          "execution_count": 12
        }
      ]
    },
    {
      "cell_type": "markdown",
      "metadata": {
        "id": "cUIIEgdi8fwB"
      },
      "source": [
        "# ライブラリのインストール"
      ]
    },
    {
      "cell_type": "code",
      "metadata": {
        "id": "UVynVQV38k7t"
      },
      "source": [
        "import warnings\n",
        "import gc\n",
        "import pandas as pd\n",
        "import pandas_profiling as pdp\n",
        "import numpy as np\n",
        "import matplotlib.pyplot as plt\n",
        "import seaborn as sns\n",
        "from sklearn.experimental import enable_hist_gradient_boosting\n",
        "from sklearn.ensemble import HistGradientBoostingClassifier\n",
        "from sklearn.model_selection import train_test_split, cross_val_score, StratifiedKFold\n",
        "from sklearn.metrics import accuracy_score, roc_auc_score, precision_recall_curve, roc_curve, average_precision_score\n",
        "warnings.simplefilter('ignore')"
      ],
      "execution_count": null,
      "outputs": []
    },
    {
      "cell_type": "markdown",
      "metadata": {
        "id": "GMS05H6E9ArN"
      },
      "source": [
        "# データの前処理"
      ]
    },
    {
      "cell_type": "code",
      "metadata": {
        "id": "RoWiboEx8_Ex"
      },
      "source": [
        " # 読み込むデータが格納されたディレクトリのパス，必要に応じて変更の必要あり\n",
        "path = \"/content/input/\"\n",
        "\n",
        "train_df = pd.read_csv(path + \"train.csv\")\n",
        "test_df = pd.read_csv(path + \"test.csv\")\n",
        "submit = pd.read_csv(path + \"sample_submission.csv\", header=None)\n",
        "\n",
        "# 訓練データ、テストデータがわかるようにダミーの目的変数を代入\n",
        "test_df['target']=-999\n",
        "\n",
        "# 訓練データ、テストデータを結合\n",
        "all_df = pd.concat([train_df,test_df])\n",
        "del train_df,test_df\n",
        "gc.collect()\n",
        "\n",
        "# def eGFR(x):\n",
        "#     if x['sex']==1:\n",
        "#       return 194*(x['serum_creatinine']**-1.094)*(x['age']**-0.287)\n",
        "#     else:\n",
        "#       return 194*(x['serum_creatinine']**-1.094)*(x['age']**-0.287)*0.739\n",
        "\n",
        "# all_df[\"eGFR\"] = all_df.apply(eGFR, axis=1)\n",
        "\n",
        "# 訓練データ、テストデータの分割\n",
        "train_df = all_df[all_df['target']!=-999]\n",
        "test_df = all_df[all_df['target']==-999]\n",
        "\n",
        "y=train_df['target']\n",
        "X=train_df.drop(['target','id'], axis=1)\n",
        "test=test_df.drop(['target','id'], axis=1)"
      ],
      "execution_count": null,
      "outputs": []
    },
    {
      "cell_type": "markdown",
      "metadata": {
        "id": "X9nyqeFI9J1u"
      },
      "source": [
        "## 交差検証の準備"
      ]
    },
    {
      "cell_type": "code",
      "metadata": {
        "id": "E2quVdfX9OiM"
      },
      "source": [
        "folds = 5\n",
        "kf = StratifiedKFold(n_splits=folds,shuffle=True,random_state=0)"
      ],
      "execution_count": null,
      "outputs": []
    },
    {
      "cell_type": "code",
      "metadata": {
        "colab": {
          "base_uri": "https://localhost:8080/"
        },
        "id": "nUZXsyuZF6k7",
        "outputId": "a2fd6107-e1c8-44f6-d19d-f05f3a5e6a60"
      },
      "source": [
        "feats=list(data.columns)\n",
        "feats"
      ],
      "execution_count": null,
      "outputs": [
        {
          "output_type": "execute_result",
          "data": {
            "text/plain": [
              "['age',\n",
              " 'anaemia',\n",
              " 'creatinine_phosphokinase',\n",
              " 'diabetes',\n",
              " 'ejection_fraction',\n",
              " 'high_blood_pressure',\n",
              " 'platelets',\n",
              " 'serum_creatinine',\n",
              " 'serum_sodium',\n",
              " 'sex',\n",
              " 'smoking',\n",
              " 'time']"
            ]
          },
          "metadata": {
            "tags": []
          },
          "execution_count": 13
        }
      ]
    },
    {
      "cell_type": "markdown",
      "metadata": {
        "id": "y7zBc6-wktWb"
      },
      "source": [
        "# 学習・予測"
      ]
    },
    {
      "cell_type": "code",
      "metadata": {
        "id": "c2wO8sAyppEB"
      },
      "source": [
        "preds={} #アンサンブル前の予測"
      ],
      "execution_count": null,
      "outputs": []
    },
    {
      "cell_type": "markdown",
      "metadata": {
        "id": "_X9cC1vLkyLA"
      },
      "source": [
        "## HistGradientBoostingClassifier"
      ]
    },
    {
      "cell_type": "markdown",
      "metadata": {
        "id": "v8qgUmZQlZ16"
      },
      "source": [
        "### Kfold"
      ]
    },
    {
      "cell_type": "code",
      "metadata": {
        "colab": {
          "base_uri": "https://localhost:8080/"
        },
        "id": "eloYhWPlGPTQ",
        "outputId": "60aea1ce-f9b1-44cc-ce17-c171a8336850"
      },
      "source": [
        "y_cv_train_pred=y.copy()\n",
        "y_cv_pred=y.copy()\n",
        "y_test_list=[]\n",
        "for i,(train_index,valid_index) in enumerate(kf.split(X, y)):\n",
        "    X_cv_train = X.iloc[train_index]\n",
        "    X_cv_valid = X.iloc[valid_index]\n",
        "    y_cv_train = y.iloc[train_index]\n",
        "    y_cv_valid = y.iloc[valid_index]\n",
        " \n",
        "    model = HistGradientBoostingClassifier(loss='binary_crossentropy',max_iter=10001,learning_rate=0.1,random_state=0)\n",
        "    model.fit(X_cv_train,y_cv_train)\n",
        "    y_cv_train_pred[train_index] = model.predict(X_cv_train)\n",
        "    y_cv_pred[valid_index] = model.predict(X_cv_valid) #train時のデータに合わせてpredを入れる #本コンペの評価はaccuracyのため確率のみ算出\n",
        "    y_test_preds = model.predict_proba(test)\n",
        "    y_test_list.append(y_test_preds)\n",
        "    print(f'Fold {i+1}, ACC : {accuracy_score(y_cv_train, y_cv_train_pred[train_index]):.6f}, val_ACC : {accuracy_score(y_cv_valid, y_cv_pred[valid_index]):.6f}')\n",
        "    #y_cv_predproba_list.append(model.predict_proba(test_))\n",
        " \n",
        "print('Full ACC score %.6f' % accuracy_score(y, y_cv_pred))"
      ],
      "execution_count": null,
      "outputs": [
        {
          "output_type": "stream",
          "text": [
            "Fold 1, ACC : 1.000000, val_ACC : 0.870000\n",
            "Fold 2, ACC : 1.000000, val_ACC : 0.830000\n",
            "Fold 3, ACC : 1.000000, val_ACC : 0.870000\n",
            "Fold 4, ACC : 1.000000, val_ACC : 0.890000\n",
            "Fold 5, ACC : 1.000000, val_ACC : 0.855000\n",
            "Full ACC score 0.863000\n"
          ],
          "name": "stdout"
        }
      ]
    },
    {
      "cell_type": "code",
      "metadata": {
        "id": "OyZF0GvMClpI"
      },
      "source": [
        "pred_proba_hist=0\n",
        "for i in y_test_list:\n",
        "    pred_proba_hist += i\n",
        "pred_proba=pred_proba_hist/len(y_test_list)\n",
        "pred={\"hist\": pred_proba} #1000個の推論データ\n",
        "preds.update(pred)\n",
        "#test_pred=(pred_proba_hist/len(y_test_list)).argmax(axis=1)\n",
        "#test_pred"
      ],
      "execution_count": null,
      "outputs": []
    },
    {
      "cell_type": "markdown",
      "metadata": {
        "id": "iaozIsKbt34m"
      },
      "source": [
        "## LightGBMClassifier"
      ]
    },
    {
      "cell_type": "code",
      "metadata": {
        "colab": {
          "base_uri": "https://localhost:8080/"
        },
        "id": "0-Ihv6jyqsDz",
        "outputId": "dbf604dd-420d-4d3d-a6e2-121feaacc6f8"
      },
      "source": [
        "import lightgbm as lgb\n",
        "y_cv_train_pred=y.copy()\n",
        "y_cv_pred=y.copy()\n",
        "y_test_list=[]\n",
        "for i,(train_index,valid_index) in enumerate(kf.split(X, y)):\n",
        "    X_cv_train = X.iloc[train_index]\n",
        "    X_cv_valid = X.iloc[valid_index]\n",
        "    y_cv_train = y.iloc[train_index]\n",
        "    y_cv_valid = y.iloc[valid_index]\n",
        " \n",
        "    lgb_train = lgb.Dataset(X_cv_train, y_cv_train,)\n",
        "    lgb_eval = lgb.Dataset(X_cv_valid, y_cv_valid, reference=lgb_train,)\n",
        "\n",
        "    model = lgb.LGBMClassifier(loss='binary_crossentropy',max_iter=10001,learning_rate=0.1,random_state=0)\n",
        "    model.fit(X_cv_train, y_cv_train, eval_set=[(X_cv_valid, y_cv_valid)],\n",
        "              verbose=False, eval_metric='accuracy')#, categorical_feature=categorical_features) # モデルの学習\n",
        "    y_cv_train_pred[train_index] = model.predict(X_cv_train)\n",
        "    y_cv_pred[valid_index] = model.predict(X_cv_valid) #train時のデータに合わせてpredを入れる #本コンペの評価はaccuracyのため確率のみ算出\n",
        "    y_test_preds = model.predict_proba(test)\n",
        "    y_test_list.append(y_test_preds)\n",
        "    print(f'Fold {i+1}, ACC : {accuracy_score(y_cv_train, y_cv_train_pred[train_index]):.6f}, val_ACC : {accuracy_score(y_cv_valid, y_cv_pred[valid_index]):.6f}')\n",
        "    #y_cv_predproba_list.append(model.predict_proba(test_))\n",
        " \n",
        "print('Full ACC score %.6f' % accuracy_score(y, y_cv_pred))"
      ],
      "execution_count": null,
      "outputs": [
        {
          "output_type": "stream",
          "text": [
            "Fold 1, ACC : 1.000000, val_ACC : 0.870000\n",
            "Fold 2, ACC : 1.000000, val_ACC : 0.835000\n",
            "Fold 3, ACC : 1.000000, val_ACC : 0.860000\n",
            "Fold 4, ACC : 1.000000, val_ACC : 0.885000\n",
            "Fold 5, ACC : 1.000000, val_ACC : 0.835000\n",
            "Full ACC score 0.857000\n"
          ],
          "name": "stdout"
        }
      ]
    },
    {
      "cell_type": "code",
      "metadata": {
        "id": "z01IWUxsB27-"
      },
      "source": [
        "pred_proba_gbm=0\n",
        "for i in y_test_list:\n",
        "    pred_proba_gbm += i\n",
        "pred_proba=pred_proba_gbm/len(y_test_list)\n",
        "pred={\"lgbm\": pred_proba} #1000個の推論データ\n",
        "preds.update(pred)"
      ],
      "execution_count": null,
      "outputs": []
    },
    {
      "cell_type": "code",
      "metadata": {
        "id": "2CbVIlOWQr9m"
      },
      "source": [
        "sub_pred_proba=(preds['hist']+preds['lgbm'])/2\n",
        "sub_pred=sub_pred_proba.argmax(axis=1)\n",
        "sub_pred"
      ],
      "execution_count": null,
      "outputs": []
    },
    {
      "cell_type": "code",
      "metadata": {
        "id": "r4LEP-4MzddE"
      },
      "source": [
        "submit[1] = sub_pred\n",
        "submit.to_csv(path + \"submission.csv\", index=False, header=False)"
      ],
      "execution_count": null,
      "outputs": []
    },
    {
      "cell_type": "code",
      "metadata": {
        "colab": {
          "base_uri": "https://localhost:8080/",
          "height": 415
        },
        "id": "SUc6A2OSFGdV",
        "outputId": "8fb750c8-d783-4b0b-e176-208832469ac6"
      },
      "source": [
        "pd.read_csv(path + \"submission.csv\", header=None)"
      ],
      "execution_count": null,
      "outputs": [
        {
          "output_type": "execute_result",
          "data": {
            "text/html": [
              "<div>\n",
              "<style scoped>\n",
              "    .dataframe tbody tr th:only-of-type {\n",
              "        vertical-align: middle;\n",
              "    }\n",
              "\n",
              "    .dataframe tbody tr th {\n",
              "        vertical-align: top;\n",
              "    }\n",
              "\n",
              "    .dataframe thead th {\n",
              "        text-align: right;\n",
              "    }\n",
              "</style>\n",
              "<table border=\"1\" class=\"dataframe\">\n",
              "  <thead>\n",
              "    <tr style=\"text-align: right;\">\n",
              "      <th></th>\n",
              "      <th>0</th>\n",
              "      <th>1</th>\n",
              "    </tr>\n",
              "  </thead>\n",
              "  <tbody>\n",
              "    <tr>\n",
              "      <th>0</th>\n",
              "      <td>1</td>\n",
              "      <td>0</td>\n",
              "    </tr>\n",
              "    <tr>\n",
              "      <th>1</th>\n",
              "      <td>2</td>\n",
              "      <td>1</td>\n",
              "    </tr>\n",
              "    <tr>\n",
              "      <th>2</th>\n",
              "      <td>4</td>\n",
              "      <td>0</td>\n",
              "    </tr>\n",
              "    <tr>\n",
              "      <th>3</th>\n",
              "      <td>5</td>\n",
              "      <td>0</td>\n",
              "    </tr>\n",
              "    <tr>\n",
              "      <th>4</th>\n",
              "      <td>6</td>\n",
              "      <td>0</td>\n",
              "    </tr>\n",
              "    <tr>\n",
              "      <th>...</th>\n",
              "      <td>...</td>\n",
              "      <td>...</td>\n",
              "    </tr>\n",
              "    <tr>\n",
              "      <th>995</th>\n",
              "      <td>1992</td>\n",
              "      <td>0</td>\n",
              "    </tr>\n",
              "    <tr>\n",
              "      <th>996</th>\n",
              "      <td>1993</td>\n",
              "      <td>0</td>\n",
              "    </tr>\n",
              "    <tr>\n",
              "      <th>997</th>\n",
              "      <td>1995</td>\n",
              "      <td>0</td>\n",
              "    </tr>\n",
              "    <tr>\n",
              "      <th>998</th>\n",
              "      <td>1997</td>\n",
              "      <td>0</td>\n",
              "    </tr>\n",
              "    <tr>\n",
              "      <th>999</th>\n",
              "      <td>1999</td>\n",
              "      <td>0</td>\n",
              "    </tr>\n",
              "  </tbody>\n",
              "</table>\n",
              "<p>1000 rows × 2 columns</p>\n",
              "</div>"
            ],
            "text/plain": [
              "        0  1\n",
              "0       1  0\n",
              "1       2  1\n",
              "2       4  0\n",
              "3       5  0\n",
              "4       6  0\n",
              "..    ... ..\n",
              "995  1992  0\n",
              "996  1993  0\n",
              "997  1995  0\n",
              "998  1997  0\n",
              "999  1999  0\n",
              "\n",
              "[1000 rows x 2 columns]"
            ]
          },
          "metadata": {
            "tags": []
          },
          "execution_count": 112
        }
      ]
    }
  ]
}